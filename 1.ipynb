{
 "cells": [
  {
   "cell_type": "code",
   "execution_count": 20,
   "id": "02dec19d",
   "metadata": {},
   "outputs": [
    {
     "name": "stdout",
     "output_type": "stream",
     "text": [
      "Path found: \n",
      " ['A', 'E', 'D', 'G']\n"
     ]
    }
   ],
   "source": [
    "graph = {\n",
    "    'A': [('B', 2), ('E', 3)],\n",
    "    'B': [('C', 1), ('G', 9)],\n",
    "    'C': None,\n",
    "    'D': [('G', 1)],\n",
    "    'E': [('D', 6)],\n",
    "    'G': None\n",
    "}\n",
    "heuristicValues = {\n",
    "    'A': 11,\n",
    "    'B': 6,\n",
    "    'C': 99,\n",
    "    'D': 1,\n",
    "    'E': 7,\n",
    "    'G': 0,\n",
    "}\n",
    "parents = {}\n",
    "openList = []\n",
    "closedList = []\n",
    "g = {}\n",
    "\n",
    "\n",
    "def h(n):\n",
    "    return heuristicValues.get(n, None)\n",
    "\n",
    "\n",
    "def getNeighbors(n):\n",
    "    return graph.get(n, None)\n",
    "\n",
    "\n",
    "def aStar(startNode, stopNode):\n",
    "    parents[startNode] = startNode\n",
    "    g[startNode] = 0\n",
    "    openList.append(startNode)\n",
    "    while len(openList) > 0:\n",
    "        n = None\n",
    "        for v in openList:\n",
    "            if n is None or g[n] + h(n) > g[v] + h(v):\n",
    "                n = v\n",
    "                \n",
    "        if n is None:\n",
    "            return n\n",
    "        \n",
    "        if n == stopNode:\n",
    "            path = []\n",
    "            while parents[n] != n:\n",
    "                path.append(n)\n",
    "                n = parents[n]\n",
    "            path.append(n)\n",
    "            path.reverse()\n",
    "            return path\n",
    "        \n",
    "        for node ,weight in getNeighbors(n):\n",
    "            parents[node] = n\n",
    "            \n",
    "            if node not in [openList, closedList]:\n",
    "                openList.append(node)\n",
    "                g[node] = g[n] + weight\n",
    "            \n",
    "            else:\n",
    "                if g[node] > g[n] + weight:\n",
    "                    g[node] = g[n] + weight\n",
    "                    if node in closedlist:\n",
    "                        closedList.remove(node)\n",
    "                        openList.append(node)\n",
    "                        \n",
    "        openList.remove(n)\n",
    "        closedList.append(n)\n",
    "\n",
    "res = aStar('A', 'G')\n",
    "\n",
    "if res is None:\n",
    "    print('No solution Exists')\n",
    "else:\n",
    "    print('Path found: \\n {}'.format(res))\n"
   ]
  },
  {
   "cell_type": "code",
   "execution_count": null,
   "id": "1b1fecd4",
   "metadata": {},
   "outputs": [],
   "source": []
  }
 ],
 "metadata": {
  "kernelspec": {
   "display_name": "Python 3 (ipykernel)",
   "language": "python",
   "name": "python3"
  },
  "language_info": {
   "codemirror_mode": {
    "name": "ipython",
    "version": 3
   },
   "file_extension": ".py",
   "mimetype": "text/x-python",
   "name": "python",
   "nbconvert_exporter": "python",
   "pygments_lexer": "ipython3",
   "version": "3.9.12"
  }
 },
 "nbformat": 4,
 "nbformat_minor": 5
}
