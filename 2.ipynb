{
 "cells": [
  {
   "cell_type": "code",
   "execution_count": 1,
   "id": "85b25c3e",
   "metadata": {},
   "outputs": [
    {
     "name": "stdout",
     "output_type": "stream",
     "text": [
      "{'E': [], 'F': [], 'D': ['E', 'F'], 'A': ['D']}\n"
     ]
    }
   ],
   "source": [
    "graph = {\n",
    "    'A': [[('B', 1), ('C', 1)], [('D', 1)]],\n",
    "    'B': [[('G', 1)], [('H', 1)]],\n",
    "    'C': [[('J', 1)]],\n",
    "    'D': [[('E', 1), ('F', 1)]],\n",
    "    'G': [[('I', 1)]],\n",
    "}\n",
    "h = {\n",
    "    'A': 1,\n",
    "    'B': 6,\n",
    "    'C': 12,\n",
    "    'D': 10,\n",
    "    'E': 4,\n",
    "    'F': 4,\n",
    "    'G': 5,\n",
    "    'H': 7,\n",
    "    'I': 1,\n",
    "    'J': 1\n",
    "}\n",
    "status = {}\n",
    "parents = {}\n",
    "\n",
    "def getS(n):\n",
    "    return status.get(n, 0)\n",
    "\n",
    "def getH(n):\n",
    "    return h.get(n, None)\n",
    "\n",
    "def getNeighbors(n):\n",
    "    return graph.get(n, [])\n",
    "\n",
    "def getMinimumCostChild(n):\n",
    "    minimumCost = 999\n",
    "    minimumCostChild = []\n",
    "\n",
    "    for listOfTuples in getNeighbors(n):\n",
    "        cost = 0\n",
    "        childNodes = []\n",
    "        for node, weight in listOfTuples:\n",
    "            cost += weight\n",
    "            childNodes.append(node)\n",
    "\n",
    "        if cost < minimumCost:\n",
    "            minimumCost = cost\n",
    "            minimumCostChild = childNodes.copy()\n",
    "\n",
    "    return 0 if minimumCost == 999 else minimumCost, minimumCostChild\n",
    "\n",
    "solution = {}\n",
    "\n",
    "def aoStar(n, backTracking):\n",
    "    if getS(n) >= 0:\n",
    "        minimumCost, childrenList = getMinimumCostChild(n)\n",
    "        h[n] = minimumCost\n",
    "        status[n] = len(childrenList)\n",
    "        solved = True\n",
    "\n",
    "        for child in childrenList:\n",
    "            parents[child] = n\n",
    "            if getS(child) != -1:\n",
    "                solved = False\n",
    "\n",
    "        if solved:\n",
    "            status[n] = -1\n",
    "            solution[n] = childrenList\n",
    "\n",
    "        if n != startNode:\n",
    "            aoStar(parents[n], True)\n",
    "\n",
    "        if not backTracking:\n",
    "            for child in childrenList:\n",
    "                status[child] = 0\n",
    "                aoStar(child, False)\n",
    "\n",
    "startNode = 'A'\n",
    "aoStar(startNode, False)\n",
    "print(solution)"
   ]
  },
  {
   "cell_type": "code",
   "execution_count": null,
   "id": "a0ec6e8c",
   "metadata": {},
   "outputs": [],
   "source": []
  }
 ],
 "metadata": {
  "kernelspec": {
   "display_name": "Python 3 (ipykernel)",
   "language": "python",
   "name": "python3"
  },
  "language_info": {
   "codemirror_mode": {
    "name": "ipython",
    "version": 3
   },
   "file_extension": ".py",
   "mimetype": "text/x-python",
   "name": "python",
   "nbconvert_exporter": "python",
   "pygments_lexer": "ipython3",
   "version": "3.9.12"
  }
 },
 "nbformat": 4,
 "nbformat_minor": 5
}
