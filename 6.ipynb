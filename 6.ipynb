import numpy as np
import pandas as pd
from sklearn.model_selection import train_test_split as tts
from sklearn.metrics import accuracy_score as acs
from tabulate import tabulate

dataset = pd.read_csv('./id3.csv')
X = dataset.iloc[:, :-1].values
y = dataset.iloc[:, -1].values

X_train, X_test, y_train, y_test = tts(X, y, random_state=0, test_size=0.4)

print('Training set length = {}\nTest set length - {}'.format(X_train.shape[0], X_test.shape[0]))

pYes = list(y_train).count('yes') / y_train.shape[0]
pNo = list(y_train).count('no') / y_train.shape[0]

print(f'\nProbability for yes = {pYes}\nProbability for no = {pNo}')

pYesValues = {}
pNoValues = {}

countYesValues = {}
countNoValues = {}

for i, row in enumerate(X_train):
    for j, val in enumerate(row):
        if y_train[i] == 'yes':
            countYesValues[val] = countYesValues.get(val, 0) + 1
        else:
            countNoValues[val] = countNoValues.get(val, 0) + 1
            
uniqueValues = set(list(countNoValues.keys())+list(countYesValues.keys()))

for val in uniqueValues:
    pYesValues[val] = countYesValues.get(val, 0) / list(y_train).count('yes')
    pNoValues[val] = countNoValues.get(val, 0) / list(y_train).count('no')
    

print('\nPreditions on test set:\n')
header = ['Test Instance', 'Predicted Output', 'Actual Output']
y_pred = []
data = []
for i, row in enumerate(X_test):
    pYesInstance = pYes
    pNoInstance = pNo
    for j, val in enumerate(row):
        pYesInstance *= pYesValues.get(val, 0)
        pNoInstance *= pNoValues.get(val, 0)
    pYesInstanceNormalized = pYesInstance/((pYesInstance+pNoInstance) or 1)
    pNoInstanceNormalized = pNoInstance/((pYesInstance+pNoInstance) or 1)
    y_pred.append('yes' if pYesInstanceNormalized >= pNoInstanceNormalized else 'no')
    data.append([list(row), y_pred[i], y_test[i]])
    
print(tabulate(data, header))

print('\nAccuracy = {}%'.format(acs(y_test, y_pred)*100))
